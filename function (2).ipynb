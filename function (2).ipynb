{
  "nbformat": 4,
  "nbformat_minor": 0,
  "metadata": {
    "colab": {
      "provenance": []
    },
    "kernelspec": {
      "name": "python3",
      "display_name": "Python 3"
    },
    "language_info": {
      "name": "python"
    }
  },
  "cells": [
    {
      "cell_type": "code",
      "execution_count": null,
      "metadata": {
        "id": "VsrKQThozwVc"
      },
      "outputs": [],
      "source": [
        "F"
      ]
    },
    {
      "cell_type": "markdown",
      "source": [
        "1. What is the difference between a function and a method in Python?\n",
        "  * A function is a block of code that performs a specific task and is defined  using the def keyword. It can be called independently.\n",
        "  * A method is a function associated with an object and can only be called on that object. Methods are defined inside classes.\n",
        "\n",
        "2. Explain the concept of function arguments and parameters in Python.\n",
        "  * Parameters are variables listed in a function's definition.\n",
        "  * Arguments are actual values passed to a function when it is called.\n",
        "\n",
        "3. What are the different ways to define and call a function in Python?\n",
        "  * Defining: Using def keyword\n",
        "  * Calling: By writing the function name followed by parentheses,optionally  including arguments.\n",
        "  * Special types include lambda functions, recursive functions, and built-in functions.\n",
        "\n",
        "4. What is the purpose of the `return` statement in a Python function?\n",
        "  * It ends the function execution and sends a value back to the caller.\n",
        "\n",
        "5. What are iterators in Python and how do they differ from iterables?\n",
        "  * Iterable: Any object that can be looped over (lists, tuples, etc.).\n",
        "  * Iterator: An object that implements the next() method. Obtained using iter(iterable).\n",
        "\n",
        "6. Explain the concept of generators in Python and how they are defined.\n",
        "  * Functions that use yield instead of return, creating an iterator that does not store the entire sequence in memory.\n",
        "\n",
        "7. What are the advantages of using generators over regular functions?\n",
        "  * Memory efficiency, lazy evaluation, and improved performance for large data processing.\n",
        "\n",
        "8. What is a lambda function in Python and when is it typically used?\n",
        "  * A small anonymous function written as lambda arguments: expression.Used for short, single-use operations.\n",
        "\n",
        "9. Explain the purpose and usage of the `map()` function in Python.\n",
        "  * Used to apply a function to all elements of an iterable.\n",
        "\n",
        "10. What is the difference between `map()`, `reduce()`, and `filter()` functions in Python?\n",
        "  * map(): Applies a function to all elements.\n",
        "  * reduce(): Applies a function cumulatively to reduce the iterable to a single value.\n",
        "  * filter(): Selects elements that meet a condition.\n",
        "\n",
        "11. Using pen & Paper write the internal mechanism for sum operation using  reduce function on this given\n",
        "list:[47,11,42,13];\n",
        "  *  Paper iamge attached in doc.\n",
        "\n",
        "\n",
        "\n",
        "\n",
        "\n",
        "\n"
      ],
      "metadata": {
        "id": "Z1DUqxOG2Xa_"
      }
    },
    {
      "cell_type": "code",
      "source": [
        "#1.Write a Python function that takes a list of numbers as input and returns the sum of all even numbers in the list.\n",
        "def sum_even_numbers(numbers):\n",
        "    return sum(num for num in numbers if num % 2 == 0)\n",
        "\n",
        "numbers = [1, 2, 3, 4, 5, 6]\n",
        "print(sum_even_numbers(numbers))\n"
      ],
      "metadata": {
        "colab": {
          "base_uri": "https://localhost:8080/"
        },
        "id": "pXddrCbU60of",
        "outputId": "4782c519-fdaf-4670-8d08-8d1ed5ae7d4d"
      },
      "execution_count": null,
      "outputs": [
        {
          "output_type": "stream",
          "name": "stdout",
          "text": [
            "12\n"
          ]
        }
      ]
    },
    {
      "cell_type": "code",
      "source": [
        "#2.Create a Python function that accepts a string and returns the reverse of that string.\n",
        "def reverse_str(str):\n",
        "  return str[::-1]\n",
        "\n",
        "  print(reverse_str(\"hello world\"))"
      ],
      "metadata": {
        "id": "e4a498DB75j2"
      },
      "execution_count": null,
      "outputs": []
    },
    {
      "cell_type": "code",
      "source": [
        "#3.Implement a Python function that takes a list of integers and returns a new list containing the squares of each number.\n",
        "def square_numbers(numbers):\n",
        "    return [num ** 2 for num in numbers]\n",
        "\n",
        "print(square_numbers([1, 2, 3]))  # Output: [1, 4, 9]\n"
      ],
      "metadata": {
        "colab": {
          "base_uri": "https://localhost:8080/"
        },
        "id": "fWytoNhU9XQf",
        "outputId": "229e367d-a0f8-4fcb-8cd6-1c7249ccf540"
      },
      "execution_count": null,
      "outputs": [
        {
          "output_type": "stream",
          "name": "stdout",
          "text": [
            "[1, 4, 9]\n"
          ]
        }
      ]
    },
    {
      "cell_type": "code",
      "source": [
        "#4.Write a Python function that checks if a given number is prime or not from 1 to 200\n",
        "def is_prime(n):\n",
        "    if n < 2:\n",
        "        return False\n",
        "    for i in range(2, int(n**0.5) + 1):  # Check divisibility up to square root of n\n",
        "        if n % i == 0:\n",
        "            return False\n",
        "    return True\n",
        "\n",
        "primes = [n for n in range(1, 201) if is_prime(n)]\n",
        "print(primes)"
      ],
      "metadata": {
        "colab": {
          "base_uri": "https://localhost:8080/"
        },
        "id": "jsCpF8aR9zFq",
        "outputId": "9809cd89-debb-44c1-a6f1-4b5e6bf32c69"
      },
      "execution_count": 74,
      "outputs": [
        {
          "output_type": "stream",
          "name": "stdout",
          "text": [
            "[2, 3, 5, 7, 11, 13, 17, 19, 23, 29, 31, 37, 41, 43, 47, 53, 59, 61, 67, 71, 73, 79, 83, 89, 97, 101, 103, 107, 109, 113, 127, 131, 137, 139, 149, 151, 157, 163, 167, 173, 179, 181, 191, 193, 197, 199]\n"
          ]
        }
      ]
    },
    {
      "cell_type": "code",
      "source": [
        "#5.Create an iterator class in Python that generates the Fibonacci sequence up to a specified number of terms.\n",
        "class FibonacciIterator:\n",
        "    def __init__(self, limit):\n",
        "        self.a, self.b = 0, 1\n",
        "        self.limit = limit\n",
        "        self.count = 0\n",
        "\n",
        "    def __iter__(self):\n",
        "        return self\n",
        "\n",
        "    def __next__(self):\n",
        "        if self.count >= self.limit:\n",
        "            raise StopIteration\n",
        "        result = self.a\n",
        "        self.a, self.b = self.b, self.a + self.b\n",
        "        self.count += 1\n",
        "        return result\n",
        "\n",
        "for num in FibonacciIterator(10):\n",
        "    print(num, end=\" \")"
      ],
      "metadata": {
        "colab": {
          "base_uri": "https://localhost:8080/"
        },
        "id": "CuCMwWsj7gvc",
        "outputId": "67c99d8a-8f3e-4263-b2db-b105e20a2c95"
      },
      "execution_count": 76,
      "outputs": [
        {
          "output_type": "stream",
          "name": "stdout",
          "text": [
            "0 1 1 2 3 5 8 13 21 34 "
          ]
        }
      ]
    },
    {
      "cell_type": "code",
      "source": [
        "#6.Write a generator function in Python that yields the powers of 2 up to a given exponent.\n",
        "def power_of_2(exponent):\n",
        "    for i in range(exponent + 1):\n",
        "        yield 2 ** i\n",
        "\n",
        "print(list(power_of_2(5)))  # Output: [1, 2, 4, 8, 16, 32]\n"
      ],
      "metadata": {
        "colab": {
          "base_uri": "https://localhost:8080/"
        },
        "id": "JJX8qXAyAWLx",
        "outputId": "fdd8f01d-d36f-4ec3-b58e-0432363452d0"
      },
      "execution_count": null,
      "outputs": [
        {
          "output_type": "stream",
          "name": "stdout",
          "text": [
            "[1, 2, 4, 8, 16, 32]\n"
          ]
        }
      ]
    },
    {
      "cell_type": "markdown",
      "source": [],
      "metadata": {
        "id": "sqBS5TgoAvTC"
      }
    },
    {
      "cell_type": "code",
      "source": [
        "#7.Implement a generator function that reads a file line by line and yields each line as a string.\n",
        "def read_file_lines(filename):\n",
        "    with open(filename, \"r\") as file:\n",
        "        for line in file:\n",
        "            yield line.strip()  # Yield each line without leading/trailing spaces\n",
        "\n",
        "# Example usage\n",
        "for line in read_file_lines(\"example.txt\"):\n",
        "    print(line)\n",
        "\n"
      ],
      "metadata": {
        "id": "Vaz-I5ok_O7C"
      },
      "execution_count": 69,
      "outputs": []
    },
    {
      "cell_type": "code",
      "source": [
        "#Use a lambda function in Python to sort a list of tuples based on the second element of each tuple.\n",
        "\n",
        "tuples_list = [(1, 3), (4, 2), (7, 1)]\n",
        "sorted_list = sorted(tuples_list, key=lambda x: x[1])\n",
        "print(sorted_list)"
      ],
      "metadata": {
        "colab": {
          "base_uri": "https://localhost:8080/"
        },
        "id": "kudKwHX27N7Y",
        "outputId": "ae6ca1e0-6259-4823-8f12-75f52c7c72f9"
      },
      "execution_count": null,
      "outputs": [
        {
          "output_type": "stream",
          "name": "stdout",
          "text": [
            "[(7, 1), (4, 2), (1, 3)]\n"
          ]
        }
      ]
    },
    {
      "cell_type": "code",
      "source": [
        "# Write a Python program that uses `map()` to convert a list of temperatures from Celsius to Fahrenheit.\n",
        "celsius = [0, 20, 30, 40]\n",
        "fahrenheit = list(map(lambda c: (c * 9/5) + 32, celsius))\n",
        "print(fahrenheit)  # Output: [32.0, 68.0, 86.0, 104.0]\n"
      ],
      "metadata": {
        "colab": {
          "base_uri": "https://localhost:8080/"
        },
        "id": "O7jtHAOeCMTU",
        "outputId": "29da1c81-1464-4af1-e079-a6226f030211"
      },
      "execution_count": null,
      "outputs": [
        {
          "output_type": "stream",
          "name": "stdout",
          "text": [
            "[32.0, 68.0, 86.0, 104.0]\n"
          ]
        }
      ]
    },
    {
      "cell_type": "code",
      "source": [
        "#Create a Python program that uses `filter()` to remove all the vowels from a given string.\n",
        "def remove_vowels(string):\n",
        "    return \"\".join(filter(lambda char: char.lower() not in \"aeiou\", string))\n",
        "\n",
        "print(remove_vowels(\"hello world\"))  # Output: \"hll wrld\"\n"
      ],
      "metadata": {
        "colab": {
          "base_uri": "https://localhost:8080/"
        },
        "id": "dX1vyCTxCR4K",
        "outputId": "0d5141ad-0b2a-4a69-f691-1e8cb0dfb1a3"
      },
      "execution_count": null,
      "outputs": [
        {
          "output_type": "stream",
          "name": "stdout",
          "text": [
            "hll wrld\n"
          ]
        }
      ]
    },
    {
      "cell_type": "code",
      "source": [
        "# Imagine an accounting routine used in a book shop. It works on a list with sublists, which look like this:\n",
        "orders = [\n",
        "    (34587, 40.95, 4),\n",
        "    (98762, 56.80, 5),\n",
        "    (77226, 32.95, 3),\n",
        "    (88112, 24.99, 3)\n",
        "]\n",
        "\n",
        "calculate_total = lambda order: (order[0], order[1] * order[2] + 10 if order[1] * order[2] < 100 else order[1] * order[2])\n",
        "\n",
        "result = list(map(calculate_total, orders))\n",
        "\n",
        "print(result)"
      ],
      "metadata": {
        "colab": {
          "base_uri": "https://localhost:8080/"
        },
        "id": "0mbju_XSCvh_",
        "outputId": "9be97771-b660-452f-9570-752bf0d161c6"
      },
      "execution_count": null,
      "outputs": [
        {
          "output_type": "stream",
          "name": "stdout",
          "text": [
            "[(34587, 163.8), (98762, 284.0), (77226, 108.85000000000001), (88112, 84.97)]\n"
          ]
        }
      ]
    },
    {
      "cell_type": "code",
      "source": [],
      "metadata": {
        "id": "_swqkoFPC2yB"
      },
      "execution_count": null,
      "outputs": []
    }
  ]
}